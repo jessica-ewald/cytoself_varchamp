{
 "cells": [
  {
   "cell_type": "markdown",
   "metadata": {},
   "source": [
    "# Process data for model training\n",
    "\n",
    "The model requires the data in a specific format. The images and labels were concatenated into a smaller number of files to make it easier to upload/download in batches. This script is to reformat."
   ]
  },
  {
   "cell_type": "code",
   "execution_count": 1,
   "metadata": {},
   "outputs": [],
   "source": [
    "import numpy as np\n",
    "import polars as pl\n",
    "import os\n",
    "from tqdm import tqdm"
   ]
  },
  {
   "cell_type": "code",
   "execution_count": 2,
   "metadata": {},
   "outputs": [],
   "source": [
    "# data paths\n",
    "img_dir = \"/dgx1nas1/storage/data/jess/cytoself/data\"\n",
    "meta_dir = \"/dgx1nas1/storage/data/jess/cytoself/labels\"\n",
    "out_dir = \"/dgx1nas1/storage/data/jess/cytoself/model_data\"\n",
    "sample_dir = \"/dgx1nas1/storage/data/jess/repos/cytoself/sample_data\""
   ]
  },
  {
   "cell_type": "code",
   "execution_count": 9,
   "metadata": {},
   "outputs": [],
   "source": [
    "meta_files = os.listdir(meta_dir)\n",
    "img_files = os.listdir(img_dir)\n",
    "root_files = [f.replace('label_', '').replace('.csv', '') for f in meta_files]"
   ]
  },
  {
   "cell_type": "code",
   "execution_count": 8,
   "metadata": {},
   "outputs": [
    {
     "data": {
      "text/plain": [
       "array([['ENSG00000117758', 'STX12', 'vesicles', ..., None, 84, 27930],\n",
       "       ['ENSG00000117758', 'STX12', 'vesicles', ..., None, 84, 27930],\n",
       "       ['ENSG00000117758', 'STX12', 'vesicles', ..., None, 84, 27930],\n",
       "       ...,\n",
       "       ['ENSG00000117758', 'STX12', 'vesicles', ..., None, 84, 7744],\n",
       "       ['ENSG00000117758', 'STX12', 'vesicles', ..., None, 84, 7744],\n",
       "       ['ENSG00000117758', 'STX12', 'vesicles', ..., None, 84, 7744]],\n",
       "      dtype=object)"
      ]
     },
     "execution_count": 8,
     "metadata": {},
     "output_type": "execute_result"
    }
   ],
   "source": [
    "rf = \"label_data00.csv\"\n",
    "mf = [f for f in meta_files if rf in f][0]\n",
    "meta = pl.read_csv(f\"{meta_dir}/{mf}\").with_row_index('index')\n",
    "proteins = meta.select(\"name\").to_series().unique().to_list()\n",
    "prot = proteins[0]\n",
    "prot_df = meta.filter(pl.col(\"name\") == prot)\n",
    "inds = prot_df.select('index').to_series().to_list()\n",
    "prot_df = prot_df.drop('index').to_numpy()\n",
    "prot_df"
   ]
  },
  {
   "cell_type": "code",
   "execution_count": 10,
   "metadata": {},
   "outputs": [
    {
     "name": "stderr",
     "output_type": "stream",
     "text": [
      "100%|██████████| 131/131 [00:00<00:00, 228.08it/s]\n",
      "100%|██████████| 131/131 [00:00<00:00, 240.66it/s]\n",
      "100%|██████████| 131/131 [00:00<00:00, 247.91it/s]\n",
      "100%|██████████| 131/131 [00:00<00:00, 222.81it/s]\n",
      "100%|██████████| 131/131 [00:00<00:00, 238.96it/s]\n",
      "100%|██████████| 132/132 [00:00<00:00, 267.09it/s]\n",
      "100%|██████████| 131/131 [00:00<00:00, 236.57it/s]\n",
      "100%|██████████| 131/131 [00:00<00:00, 255.07it/s]\n",
      "100%|██████████| 131/131 [00:00<00:00, 242.29it/s]\n",
      "100%|██████████| 131/131 [00:00<00:00, 261.68it/s]\n"
     ]
    }
   ],
   "source": [
    "# Reformat data to match what model is expecting\n",
    "# Time: takes ~45s per input file\n",
    "for rf in root_files:\n",
    "    mf = [f for f in meta_files if rf in f][0]\n",
    "    imgf = [f for f in img_files if rf in f][0]\n",
    "\n",
    "    meta = pl.read_csv(f\"{meta_dir}/{mf}\").with_row_index('index')\n",
    "    dat = np.load(f\"{img_dir}/{imgf}\", allow_pickle=True)\n",
    "\n",
    "    proteins = meta.select(\"name\").to_series().unique().to_list()\n",
    "    for prot in tqdm(proteins):\n",
    "        prot_df = meta.filter(pl.col(\"name\") == prot)\n",
    "        inds = prot_df.select('index').to_series().to_list()\n",
    "        prof_df = prot_df.drop('index').to_numpy()\n",
    "        \n",
    "        np.save(f\"{out_dir}/{prot}_label.npy\", prot_df.drop('index').to_numpy())\n",
    "        np.save(f\"{out_dir}/{prot}_pro.npy\", dat[inds, :, :, 0])\n",
    "        np.save(f\"{out_dir}/{prot}_nuc.npy\", dat[inds, :, :, 1])"
   ]
  }
 ],
 "metadata": {
  "kernelspec": {
   "display_name": "cytoself",
   "language": "python",
   "name": "python3"
  },
  "language_info": {
   "codemirror_mode": {
    "name": "ipython",
    "version": 3
   },
   "file_extension": ".py",
   "mimetype": "text/x-python",
   "name": "python",
   "nbconvert_exporter": "python",
   "pygments_lexer": "ipython3",
   "version": "3.9.19"
  }
 },
 "nbformat": 4,
 "nbformat_minor": 2
}
