{
 "cells": [
  {
   "cell_type": "markdown",
   "metadata": {},
   "source": [
    "# Generate single-cell crops from Varchamp images\n",
    "\n",
    "Purpose is to crop and format the Varchamp images and metadata to match the input for cytoself. "
   ]
  },
  {
   "cell_type": "code",
   "execution_count": 1,
   "metadata": {},
   "outputs": [],
   "source": [
    "# Imports\n",
    "import polars as pl\n",
    "import os\n",
    "from tqdm import tqdm"
   ]
  },
  {
   "cell_type": "code",
   "execution_count": 2,
   "metadata": {},
   "outputs": [],
   "source": [
    "# Paths\n",
    "varchamp_dir = \"/dgx1nas1/storage/data/jess/cytoself/varchamp_data\"\n",
    "imagecsv_dir = f\"{varchamp_dir}/image_csv/cpg0020-varchamp/broad/workspace/assaydev/2024_01_23_Batch_7\"\n",
    "prof_path = \"/dgx1nas1/storage/data/jess/repos/2021_09_01_VarChAMP/6.downstream_analysis_snakemake/outputs/batch_profiles/2024_01_23_Batch_7/profiles.parquet\"\n",
    "img_dir = f\"{varchamp_dir}/zarr_images/cpg0020-varchamp\""
   ]
  },
  {
   "cell_type": "markdown",
   "metadata": {},
   "source": [
    "## Filter Cells"
   ]
  },
  {
   "cell_type": "code",
   "execution_count": 3,
   "metadata": {},
   "outputs": [
    {
     "data": {
      "text/plain": [
       "(1866461, 14)"
      ]
     },
     "execution_count": 3,
     "metadata": {},
     "output_type": "execute_result"
    }
   ],
   "source": [
    "# Get metadata\n",
    "profiles = pl.scan_parquet(prof_path).select(\n",
    "    ['Metadata_well_position', 'Metadata_plate_map_name', 'Metadata_ImageNumber', 'Metadata_ObjectNumber', 'Metadata_symbol', 'Metadata_gene_allele', 'Metadata_control_type', 'Metadata_Plate', \n",
    "    'Nuclei_AreaShape_Area', 'Cells_AreaShape_Area', 'Nuclei_AreaShape_Center_X', 'Nuclei_AreaShape_Center_Y', 'Cells_Intensity_MedianIntensity_GFP', 'Cells_Intensity_IntegratedIntensity_GFP']\n",
    ").collect()\n",
    "profiles.shape"
   ]
  },
  {
   "cell_type": "code",
   "execution_count": 4,
   "metadata": {},
   "outputs": [
    {
     "data": {
      "text/plain": [
       "(1256972, 16)"
      ]
     },
     "execution_count": 4,
     "metadata": {},
     "output_type": "execute_result"
    }
   ],
   "source": [
    "# Filter based on cell to nucleus area\n",
    "profiles = profiles.with_columns(\n",
    "                (pl.col(\"Nuclei_AreaShape_Area\")/pl.col(\"Cells_AreaShape_Area\")).alias(\"Nucleus_Cell_Area\"),\n",
    "                pl.concat_str(['Metadata_Plate', 'Metadata_well_position', 'Metadata_ImageNumber', 'Metadata_ObjectNumber'], separator=\"_\").alias(\"Metadata_CellID\")\n",
    "        ).filter((pl.col(\"Nucleus_Cell_Area\") > 0.15) & (pl.col(\"Nucleus_Cell_Area\") < 0.3))\n",
    "profiles.shape"
   ]
  },
  {
   "cell_type": "code",
   "execution_count": 5,
   "metadata": {},
   "outputs": [
    {
     "data": {
      "text/plain": [
       "(1122944, 16)"
      ]
     },
     "execution_count": 5,
     "metadata": {},
     "output_type": "execute_result"
    }
   ],
   "source": [
    "# Filter cells too close to image edge\n",
    "profiles = profiles.filter(\n",
    "    (pl.col(\"Nuclei_AreaShape_Center_X\") > 50) & (pl.col(\"Nuclei_AreaShape_Center_X\") < 1030) & (pl.col(\"Nuclei_AreaShape_Center_Y\") > 50) & (pl.col(\"Nuclei_AreaShape_Center_Y\") < 1030)\n",
    ")\n",
    "profiles.shape"
   ]
  },
  {
   "cell_type": "code",
   "execution_count": 6,
   "metadata": {},
   "outputs": [],
   "source": [
    "# Calculate median and mad of gfp intensity for each allele\n",
    "medians = profiles.group_by([\"Metadata_Plate\", \"Metadata_well_position\"]).agg(\n",
    "    pl.col(\"Cells_Intensity_MedianIntensity_GFP\").median().alias(\"WellIntensityMedian\")\n",
    ")\n",
    "\n",
    "profiles = profiles.join(medians, on=[\"Metadata_Plate\", \"Metadata_well_position\"])\n",
    "\n",
    "profiles = profiles.with_columns(\n",
    "    (pl.col(\"Cells_Intensity_MedianIntensity_GFP\") - pl.col(\"WellIntensityMedian\")).abs().alias(\"Abs_dev\")\n",
    ")\n",
    "mad = profiles.group_by([\"Metadata_Plate\", \"Metadata_well_position\"]).agg(\n",
    "    pl.col(\"Abs_dev\").median().alias(\"Intensity_MAD\")\n",
    ")\n",
    "profiles = profiles.join(mad, on=[\"Metadata_Plate\", \"Metadata_well_position\"])\n",
    "\n",
    "# Threshold is 5X\n",
    "profiles = profiles.with_columns(\n",
    "    (pl.col(\"WellIntensityMedian\") + 5*pl.col(\"Intensity_MAD\")).alias(\"Intensity_upper_threshold\"),\n",
    "    (pl.col(\"WellIntensityMedian\") - 5*pl.col(\"Intensity_MAD\")).alias(\"Intensity_lower_threshold\")\n",
    ")"
   ]
  },
  {
   "cell_type": "code",
   "execution_count": 7,
   "metadata": {},
   "outputs": [
    {
     "data": {
      "text/plain": [
       "(1037703, 21)"
      ]
     },
     "execution_count": 7,
     "metadata": {},
     "output_type": "execute_result"
    }
   ],
   "source": [
    "# Filter by intensity MAD\n",
    "profiles = profiles.filter(\n",
    "    pl.col(\"Cells_Intensity_MedianIntensity_GFP\") <= pl.col(\"Intensity_upper_threshold\")\n",
    ").filter(\n",
    "    pl.col(\"Cells_Intensity_MedianIntensity_GFP\") >= pl.col(\"Intensity_lower_threshold\")\n",
    ")\n",
    "profiles.shape"
   ]
  },
  {
   "cell_type": "markdown",
   "metadata": {},
   "source": [
    "## Process images and metadata"
   ]
  },
  {
   "cell_type": "code",
   "execution_count": 8,
   "metadata": {},
   "outputs": [
    {
     "name": "stderr",
     "output_type": "stream",
     "text": [
      "100%|██████████| 7287/7287 [00:53<00:00, 137.37it/s]\n"
     ]
    }
   ],
   "source": [
    "# Read in all Image.csv to get ImageNumber:SiteNumber mapping and paths\n",
    "image_dat = []\n",
    "icf = os.listdir(imagecsv_dir)\n",
    "for fp in tqdm(icf):\n",
    "    plate, well = fp.split(\"-\")\n",
    "\n",
    "    image_dat.append(pl.read_csv(f\"{imagecsv_dir}/{fp}/Image.csv\").select(\n",
    "        [\n",
    "            'ImageNumber',\n",
    "            'Metadata_Site',\n",
    "            'PathName_OrigDNA',\n",
    "            'FileName_OrigDNA',\n",
    "            'FileName_OrigGFP'\n",
    "            ]\n",
    "        ).with_columns(\n",
    "        pl.lit(plate).alias(\"Metadata_Plate\"),\n",
    "        pl.lit(well).alias(\"Metadata_well_position\")\n",
    "        ))\n",
    "image_dat = pl.concat(image_dat).rename({\"ImageNumber\": \"Metadata_ImageNumber\"})"
   ]
  },
  {
   "cell_type": "code",
   "execution_count": 9,
   "metadata": {},
   "outputs": [],
   "source": [
    "# Create useful filepaths\n",
    "image_dat = image_dat.with_columns(\n",
    "    pl.col(\"PathName_OrigDNA\").str.replace(\".*cpg0020-varchamp/\", \"\").alias(\"Path_root\")\n",
    ")\n",
    "image_dat = image_dat.with_columns(\n",
    "    pl.concat_str([\"Path_root\", \"FileName_OrigDNA\"], separator=\"/\").str.replace(\"tiff_images\", \"zarr_images\").alias(\"DNA_zarrpath\"),\n",
    "    pl.concat_str([\"Path_root\", \"FileName_OrigGFP\"], separator=\"/\").str.replace(\"tiff_images\", \"zarr_images\").alias(\"GFP_zarrpath\")\n",
    ")\n",
    "\n",
    "image_dat = image_dat.drop([\n",
    "    'PathName_OrigDNA',\n",
    "    'FileName_OrigDNA',\n",
    "    'FileName_OrigGFP',\n",
    "    'Path_root'\n",
    "])"
   ]
  },
  {
   "cell_type": "code",
   "execution_count": null,
   "metadata": {},
   "outputs": [],
   "source": [
    "# Append to profiles\n",
    "profiles = profiles.join(image_dat, on = ['Metadata_Plate', 'Metadata_well_position', 'Metadata_ImageNumber'])\n",
    "profiles"
   ]
  },
  {
   "cell_type": "code",
   "execution_count": 11,
   "metadata": {},
   "outputs": [],
   "source": [
    "# Sort by gene, then allele, then plate, then well position, then image number\n",
    "profiles = profiles.with_columns(\n",
    "    pl.concat_str(['Metadata_Plate', 'Metadata_well_position', 'Metadata_Site'], separator=\"_\").alias(\"Metadata_SiteID\")\n",
    ")\n",
    "profiles = profiles.sort(['Metadata_symbol', 'Metadata_gene_allele', 'Metadata_SiteID'])\n",
    "\n",
    "imgs = profiles.select('Metadata_SiteID').to_series().unique().to_list()"
   ]
  },
  {
   "cell_type": "code",
   "execution_count": null,
   "metadata": {},
   "outputs": [],
   "source": [
    "# For each protein, extract sc crops from zarr and metadata from profile & append to numpy arrays in memory, then write out to a 'data_varchamp' folder\n",
    "\n",
    "# For now, use all alleles but for full dataset may want to just train on WT and infer embeddings for all variants"
   ]
  }
 ],
 "metadata": {
  "kernelspec": {
   "display_name": "cytoself",
   "language": "python",
   "name": "python3"
  },
  "language_info": {
   "codemirror_mode": {
    "name": "ipython",
    "version": 3
   },
   "file_extension": ".py",
   "mimetype": "text/x-python",
   "name": "python",
   "nbconvert_exporter": "python",
   "pygments_lexer": "ipython3",
   "version": "3.9.19"
  }
 },
 "nbformat": 4,
 "nbformat_minor": 2
}
