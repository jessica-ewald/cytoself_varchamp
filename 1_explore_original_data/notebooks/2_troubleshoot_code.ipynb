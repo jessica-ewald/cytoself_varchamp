{
 "cells": [
  {
   "cell_type": "markdown",
   "metadata": {},
   "source": [
    "# Troubleshoot workflow\n",
    "\n",
    "Sometimes the code fails after training on only a subset of the data. "
   ]
  },
  {
   "cell_type": "code",
   "execution_count": 2,
   "metadata": {},
   "outputs": [
    {
     "name": "stderr",
     "output_type": "stream",
     "text": [
      "/dgx1nas1/storage/data/jess/miniforge3/envs/cytoself/lib/python3.9/site-packages/tqdm/auto.py:21: TqdmWarning: IProgress not found. Please update jupyter and ipywidgets. See https://ipywidgets.readthedocs.io/en/stable/user_install.html\n",
      "  from .autonotebook import tqdm as notebook_tqdm\n"
     ]
    }
   ],
   "source": [
    "from os.path import join\n",
    "\n",
    "import matplotlib.pyplot as plt\n",
    "import numpy as np\n",
    "import torch\n",
    "\n",
    "from cytoself.analysis.analysis_opencell import AnalysisOpenCell\n",
    "from cytoself.datamanager.opencell import DataManagerOpenCell\n",
    "from cytoself.trainer.cytoselflite_trainer import CytoselfFullTrainer\n",
    "from cytoself.trainer.utils.plot_history import plot_history_cytoself"
   ]
  },
  {
   "cell_type": "code",
   "execution_count": 1,
   "metadata": {},
   "outputs": [],
   "source": [
    "datapath = '/dgx1nas1/storage/data/jess/cytoself/data_10per'\n",
    "model_nm = \"data_10percent\"\n",
    "data_ch = ['pro', 'nuc']"
   ]
  },
  {
   "cell_type": "code",
   "execution_count": 3,
   "metadata": {},
   "outputs": [
    {
     "name": "stdout",
     "output_type": "stream",
     "text": [
      "Loading pro data...\n"
     ]
    },
    {
     "name": "stderr",
     "output_type": "stream",
     "text": [
      "100%|██████████| 131/131 [00:14<00:00,  8.79it/s]\n"
     ]
    },
    {
     "name": "stdout",
     "output_type": "stream",
     "text": [
      "Loading nuc data...\n"
     ]
    },
    {
     "name": "stderr",
     "output_type": "stream",
     "text": [
      "100%|██████████| 131/131 [00:12<00:00, 10.38it/s]\n"
     ]
    },
    {
     "name": "stdout",
     "output_type": "stream",
     "text": [
      "Loading label data...\n"
     ]
    },
    {
     "name": "stderr",
     "output_type": "stream",
     "text": [
      "100%|██████████| 131/131 [00:00<00:00, 1710.88it/s]\n"
     ]
    },
    {
     "name": "stdout",
     "output_type": "stream",
     "text": [
      "Splitting data...\n",
      "Computing variance of training data...\n",
      "Computing variance of validation data...\n",
      "Computing variance of test data...\n"
     ]
    }
   ],
   "source": [
    "datamanager = DataManagerOpenCell(datapath, data_ch, fov_col=None)\n",
    "datamanager.const_dataloader(batch_size=32, label_name_position=1)"
   ]
  },
  {
   "cell_type": "code",
   "execution_count": null,
   "metadata": {},
   "outputs": [],
   "source": [
    "label_converted, unique_groups = self.group_labels(label_data, group_col, unique_groups, group_annotation)\n",
    "## causes issue in:\n",
    "unique_groups = np.unique(label_data[:, group_col])\n",
    "\n",
    "## where do label_data and group_col come from\n",
    "group_col = 2\n",
    "\n",
    "label_data = data_loader.dataset.label\n",
    "data_loader=datamanager.test_loader"
   ]
  },
  {
   "cell_type": "code",
   "execution_count": 13,
   "metadata": {},
   "outputs": [],
   "source": [
    "group_col = 2\n",
    "label_data = datamanager.test_loader.dataset.label\n",
    "label_data = np.where(label_data == None, 'None', label_data) \n",
    "unique_groups = np.unique(label_data[:, group_col])\n",
    "\n",
    "\n",
    "filter_mask = np.array([(item != 'None') and (';' not in item) for item in unique_groups])\n",
    "unique_groups = unique_groups[filter_mask]\n",
    "\n"
   ]
  },
  {
   "cell_type": "code",
   "execution_count": null,
   "metadata": {},
   "outputs": [],
   "source": [
    "# 3.3 Plot UMAP\n",
    "umap_data = analysis.plot_umap_of_embedding_vector(\n",
    "    data_loader=datamanager.test_loader,\n",
    "    group_col=2,\n",
    "    output_layer=f'{model_args[\"fc_input_type\"]}2',\n",
    "    title=f'UMAP {model_args[\"fc_input_type\"]}2',\n",
    "    xlabel='UMAP1',\n",
    "    ylabel='UMAP2',\n",
    "    s=0.3,\n",
    "    alpha=0.5,\n",
    "    show_legend=True,\n",
    ")"
   ]
  }
 ],
 "metadata": {
  "kernelspec": {
   "display_name": "cytoself",
   "language": "python",
   "name": "python3"
  },
  "language_info": {
   "codemirror_mode": {
    "name": "ipython",
    "version": 3
   },
   "file_extension": ".py",
   "mimetype": "text/x-python",
   "name": "python",
   "nbconvert_exporter": "python",
   "pygments_lexer": "ipython3",
   "version": "3.9.19"
  }
 },
 "nbformat": 4,
 "nbformat_minor": 2
}
