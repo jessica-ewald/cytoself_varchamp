{
 "cells": [
  {
   "cell_type": "code",
   "execution_count": 16,
   "metadata": {},
   "outputs": [],
   "source": [
    "import os\n",
    "\n",
    "import numpy as np\n",
    "import polars as pl\n",
    "import zarr\n",
    "from tqdm import tqdm\n",
    "import matplotlib.pyplot as plt"
   ]
  },
  {
   "cell_type": "code",
   "execution_count": 40,
   "metadata": {},
   "outputs": [],
   "source": [
    "image_dir = \"/dgx1nas1/storage/data/jess/pooled/images/cc_zarr\"\n",
    "prof_path = \"/dgx1nas1/storage/data/jess/pooled/sc_data/processed_profiles/pilot_annotated.parquet\""
   ]
  },
  {
   "cell_type": "code",
   "execution_count": null,
   "metadata": {},
   "outputs": [],
   "source": [
    "# CorrDNA, CorrVariantProtein_high"
   ]
  },
  {
   "cell_type": "code",
   "execution_count": 30,
   "metadata": {},
   "outputs": [],
   "source": [
    "min_center = 30\n",
    "max_center = 5500 - min_center"
   ]
  },
  {
   "cell_type": "code",
   "execution_count": 46,
   "metadata": {},
   "outputs": [],
   "source": [
    "prof = pl.scan_parquet(prof_path)\n",
    "prof = prof.select([i for i in prof.columns if \"Metadata_\" in i]).collect()\n",
    "prof = prof.filter(pl.col(\"Metadata_Foci_Barcode_MatchedTo_Score_mean\") >= 0.875).with_columns(\n",
    "    pl.concat_str(\n",
    "        [\n",
    "            pl.col(\"Metadata_Foci_well\"),\n",
    "            pl.col(\"Metadata_Foci_site_location\"),\n",
    "            pl.col(\"Metadata_Cells_ObjectNumber\"),\n",
    "        ],\n",
    "        separator=\"_\",\n",
    "    ).alias(\"Metadata_CellID\")\n",
    ")\n",
    "high_quality_barcodes = prof.select(\"Metadata_CellID\").to_series().to_list()"
   ]
  },
  {
   "cell_type": "code",
   "execution_count": 55,
   "metadata": {},
   "outputs": [],
   "source": [
    "meta = pl.read_parquet(f\"{image_dir}/cell_coords.parquet\")\n",
    "meta = meta.with_columns(\n",
    "    pl.col(\"Metadata_Foci_Barcode_MatchedTo_GeneCode\").str.replace(\" \", \"-\").alias(\"Protein_label\")\n",
    ")"
   ]
  },
  {
   "cell_type": "code",
   "execution_count": 56,
   "metadata": {},
   "outputs": [],
   "source": [
    "# Filter low quality barcodes\n",
    "meta = meta.filter(pl.col(\"Metadata_CellID\").is_in(high_quality_barcodes))"
   ]
  },
  {
   "cell_type": "code",
   "execution_count": 57,
   "metadata": {},
   "outputs": [],
   "source": [
    "# Closeness to image edge\n",
    "meta = meta.filter(\n",
    "    ((pl.col(\"X_nuclei_int\") > min_center) & (pl.col(\"X_nuclei_int\") < max_center) &\n",
    "    (pl.col(\"Y_nuclei_int\") > min_center) & (pl.col(\"Y_nuclei_int\") < max_center)),\n",
    ")\n",
    "meta = meta.with_columns(\n",
    "    (pl.col(\"X_nuclei_int\") - min_center).alias(\"x_low\").round().cast(pl.Int16),\n",
    "    (pl.col(\"X_nuclei_int\") + min_center).alias(\"x_high\").round().cast(pl.Int16),\n",
    "    (pl.col(\"Y_nuclei_int\") - min_center).alias(\"y_low\").round().cast(pl.Int16),\n",
    "    (pl.col(\"Y_nuclei_int\") + min_center).alias(\"y_high\").round().cast(pl.Int16),\n",
    ")"
   ]
  },
  {
   "cell_type": "code",
   "execution_count": 58,
   "metadata": {},
   "outputs": [],
   "source": [
    "# Add site ID\n",
    "meta = meta.with_columns(\n",
    "    pl.concat_str([\"Metadata_Foci_well\", \"Metadata_Foci_site_location\"], separator=\"_\").alias(\"Metadata_SiteID\")\n",
    ")\n",
    "\n",
    "meta = meta.select([\n",
    "    \"Metadata_CellID\",\n",
    "    \"Protein_label\",\n",
    "    \"Metadata_Foci_well\",\n",
    "    \"Metadata_Foci_site_location\",\n",
    "    \"Metadata_SiteID\",\n",
    "    \"x_low\",\n",
    "    \"x_high\",\n",
    "    \"y_low\",\n",
    "    \"y_high\"\n",
    "])"
   ]
  },
  {
   "cell_type": "code",
   "execution_count": 59,
   "metadata": {},
   "outputs": [
    {
     "data": {
      "text/html": [
       "<div><style>\n",
       ".dataframe > thead > tr,\n",
       ".dataframe > tbody > tr {\n",
       "  text-align: right;\n",
       "  white-space: pre-wrap;\n",
       "}\n",
       "</style>\n",
       "<small>shape: (70_499, 9)</small><table border=\"1\" class=\"dataframe\"><thead><tr><th>Metadata_CellID</th><th>Protein_label</th><th>Metadata_Foci_well</th><th>Metadata_Foci_site_location</th><th>Metadata_SiteID</th><th>x_low</th><th>x_high</th><th>y_low</th><th>y_high</th></tr><tr><td>str</td><td>str</td><td>str</td><td>i64</td><td>str</td><td>i16</td><td>i16</td><td>i16</td><td>i16</td></tr></thead><tbody><tr><td>&quot;WellB3_13_77&quot;</td><td>&quot;RFXANK&quot;</td><td>&quot;WellB3&quot;</td><td>13</td><td>&quot;WellB3_13&quot;</td><td>3552</td><td>3612</td><td>1</td><td>61</td></tr><tr><td>&quot;WellB3_13_88&quot;</td><td>&quot;ETHE1-L55P&quot;</td><td>&quot;WellB3&quot;</td><td>13</td><td>&quot;WellB3_13&quot;</td><td>3727</td><td>3787</td><td>3</td><td>63</td></tr><tr><td>&quot;WellB3_13_91&quot;</td><td>&quot;AMHR2-H282Q&quot;</td><td>&quot;WellB3&quot;</td><td>13</td><td>&quot;WellB3_13&quot;</td><td>3665</td><td>3725</td><td>7</td><td>67</td></tr><tr><td>&quot;WellB3_13_112&quot;</td><td>&quot;IL2RG-W237R&quot;</td><td>&quot;WellB3&quot;</td><td>13</td><td>&quot;WellB3_13&quot;</td><td>973</td><td>1033</td><td>16</td><td>76</td></tr><tr><td>&quot;WellB3_13_121&quot;</td><td>&quot;HADHB-H379R&quot;</td><td>&quot;WellB3&quot;</td><td>13</td><td>&quot;WellB3_13&quot;</td><td>3127</td><td>3187</td><td>15</td><td>75</td></tr><tr><td>&quot;WellB3_13_135&quot;</td><td>&quot;AMHR2-R54C&quot;</td><td>&quot;WellB3&quot;</td><td>13</td><td>&quot;WellB3_13&quot;</td><td>5225</td><td>5285</td><td>22</td><td>82</td></tr><tr><td>&quot;WellB3_13_139&quot;</td><td>&quot;RFXANK&quot;</td><td>&quot;WellB3&quot;</td><td>13</td><td>&quot;WellB3_13&quot;</td><td>3569</td><td>3629</td><td>22</td><td>82</td></tr><tr><td>&quot;WellB3_13_142&quot;</td><td>&quot;EBP&quot;</td><td>&quot;WellB3&quot;</td><td>13</td><td>&quot;WellB3_13&quot;</td><td>3102</td><td>3162</td><td>28</td><td>88</td></tr><tr><td>&quot;WellB3_13_148&quot;</td><td>&quot;RFXANK&quot;</td><td>&quot;WellB3&quot;</td><td>13</td><td>&quot;WellB3_13&quot;</td><td>2738</td><td>2798</td><td>31</td><td>91</td></tr><tr><td>&quot;WellB3_13_156&quot;</td><td>&quot;FECH-E178K&quot;</td><td>&quot;WellB3&quot;</td><td>13</td><td>&quot;WellB3_13&quot;</td><td>3174</td><td>3234</td><td>32</td><td>92</td></tr><tr><td>&quot;WellB3_13_164&quot;</td><td>&quot;RFXANK&quot;</td><td>&quot;WellB3&quot;</td><td>13</td><td>&quot;WellB3_13&quot;</td><td>3616</td><td>3676</td><td>37</td><td>97</td></tr><tr><td>&quot;WellB3_13_168&quot;</td><td>&quot;AHCY-R49C&quot;</td><td>&quot;WellB3&quot;</td><td>13</td><td>&quot;WellB3_13&quot;</td><td>3765</td><td>3825</td><td>40</td><td>100</td></tr><tr><td>&hellip;</td><td>&hellip;</td><td>&hellip;</td><td>&hellip;</td><td>&hellip;</td><td>&hellip;</td><td>&hellip;</td><td>&hellip;</td><td>&hellip;</td></tr><tr><td>&quot;WellB5_9_7772&quot;</td><td>&quot;CLRN1-C40G&quot;</td><td>&quot;WellB5&quot;</td><td>9</td><td>&quot;WellB5_9&quot;</td><td>3636</td><td>3696</td><td>5412</td><td>5472</td></tr><tr><td>&quot;WellB5_9_7773&quot;</td><td>&quot;PTH-C18R&quot;</td><td>&quot;WellB5&quot;</td><td>9</td><td>&quot;WellB5_9&quot;</td><td>4045</td><td>4105</td><td>5414</td><td>5474</td></tr><tr><td>&quot;WellB5_9_7775&quot;</td><td>&quot;MPG-R60C&quot;</td><td>&quot;WellB5&quot;</td><td>9</td><td>&quot;WellB5_9&quot;</td><td>3116</td><td>3176</td><td>5414</td><td>5474</td></tr><tr><td>&quot;WellB5_9_7777&quot;</td><td>&quot;ANG-Q12L&quot;</td><td>&quot;WellB5&quot;</td><td>9</td><td>&quot;WellB5_9&quot;</td><td>5092</td><td>5152</td><td>5414</td><td>5474</td></tr><tr><td>&quot;WellB5_9_7780&quot;</td><td>&quot;MYD88-L93P&quot;</td><td>&quot;WellB5&quot;</td><td>9</td><td>&quot;WellB5_9&quot;</td><td>2228</td><td>2288</td><td>5418</td><td>5478</td></tr><tr><td>&quot;WellB5_9_7785&quot;</td><td>&quot;AMHR2-R54C&quot;</td><td>&quot;WellB5&quot;</td><td>9</td><td>&quot;WellB5_9&quot;</td><td>3610</td><td>3670</td><td>5418</td><td>5478</td></tr><tr><td>&quot;WellB5_9_7787&quot;</td><td>&quot;DCX&quot;</td><td>&quot;WellB5&quot;</td><td>9</td><td>&quot;WellB5_9&quot;</td><td>4083</td><td>4143</td><td>5422</td><td>5482</td></tr><tr><td>&quot;WellB5_9_7788&quot;</td><td>&quot;AMHR2&quot;</td><td>&quot;WellB5&quot;</td><td>9</td><td>&quot;WellB5_9&quot;</td><td>5182</td><td>5242</td><td>5417</td><td>5477</td></tr><tr><td>&quot;WellB5_9_7794&quot;</td><td>&quot;MPG-R60C&quot;</td><td>&quot;WellB5&quot;</td><td>9</td><td>&quot;WellB5_9&quot;</td><td>3095</td><td>3155</td><td>5424</td><td>5484</td></tr><tr><td>&quot;WellB5_9_7798&quot;</td><td>&quot;EBP&quot;</td><td>&quot;WellB5&quot;</td><td>9</td><td>&quot;WellB5_9&quot;</td><td>2278</td><td>2338</td><td>5427</td><td>5487</td></tr><tr><td>&quot;WellB5_9_7824&quot;</td><td>&quot;MVK&quot;</td><td>&quot;WellB5&quot;</td><td>9</td><td>&quot;WellB5_9&quot;</td><td>4529</td><td>4589</td><td>5436</td><td>5496</td></tr><tr><td>&quot;WellB5_9_7826&quot;</td><td>&quot;AMHR2-R54C&quot;</td><td>&quot;WellB5&quot;</td><td>9</td><td>&quot;WellB5_9&quot;</td><td>3403</td><td>3463</td><td>5439</td><td>5499</td></tr></tbody></table></div>"
      ],
      "text/plain": [
       "shape: (70_499, 9)\n",
       "┌───────────────┬──────────────┬──────────────┬──────────────┬───┬───────┬────────┬───────┬────────┐\n",
       "│ Metadata_Cell ┆ Protein_labe ┆ Metadata_Foc ┆ Metadata_Foc ┆ … ┆ x_low ┆ x_high ┆ y_low ┆ y_high │\n",
       "│ ID            ┆ l            ┆ i_well       ┆ i_site_locat ┆   ┆ ---   ┆ ---    ┆ ---   ┆ ---    │\n",
       "│ ---           ┆ ---          ┆ ---          ┆ ion          ┆   ┆ i16   ┆ i16    ┆ i16   ┆ i16    │\n",
       "│ str           ┆ str          ┆ str          ┆ ---          ┆   ┆       ┆        ┆       ┆        │\n",
       "│               ┆              ┆              ┆ i64          ┆   ┆       ┆        ┆       ┆        │\n",
       "╞═══════════════╪══════════════╪══════════════╪══════════════╪═══╪═══════╪════════╪═══════╪════════╡\n",
       "│ WellB3_13_77  ┆ RFXANK       ┆ WellB3       ┆ 13           ┆ … ┆ 3552  ┆ 3612   ┆ 1     ┆ 61     │\n",
       "│ WellB3_13_88  ┆ ETHE1-L55P   ┆ WellB3       ┆ 13           ┆ … ┆ 3727  ┆ 3787   ┆ 3     ┆ 63     │\n",
       "│ WellB3_13_91  ┆ AMHR2-H282Q  ┆ WellB3       ┆ 13           ┆ … ┆ 3665  ┆ 3725   ┆ 7     ┆ 67     │\n",
       "│ WellB3_13_112 ┆ IL2RG-W237R  ┆ WellB3       ┆ 13           ┆ … ┆ 973   ┆ 1033   ┆ 16    ┆ 76     │\n",
       "│ …             ┆ …            ┆ …            ┆ …            ┆ … ┆ …     ┆ …      ┆ …     ┆ …      │\n",
       "│ WellB5_9_7794 ┆ MPG-R60C     ┆ WellB5       ┆ 9            ┆ … ┆ 3095  ┆ 3155   ┆ 5424  ┆ 5484   │\n",
       "│ WellB5_9_7798 ┆ EBP          ┆ WellB5       ┆ 9            ┆ … ┆ 2278  ┆ 2338   ┆ 5427  ┆ 5487   │\n",
       "│ WellB5_9_7824 ┆ MVK          ┆ WellB5       ┆ 9            ┆ … ┆ 4529  ┆ 4589   ┆ 5436  ┆ 5496   │\n",
       "│ WellB5_9_7826 ┆ AMHR2-R54C   ┆ WellB5       ┆ 9            ┆ … ┆ 3403  ┆ 3463   ┆ 5439  ┆ 5499   │\n",
       "└───────────────┴──────────────┴──────────────┴──────────────┴───┴───────┴────────┴───────┴────────┘"
      ]
     },
     "execution_count": 59,
     "metadata": {},
     "output_type": "execute_result"
    }
   ],
   "source": [
    "meta"
   ]
  },
  {
   "cell_type": "code",
   "execution_count": 34,
   "metadata": {},
   "outputs": [],
   "source": [
    "img_path = f\"{image_dir}/RD3_WellB5_SB505124_WellB5/CorrDNA/CorrDNA_Site_18.zarr\"\n",
    "img = zarr.open(img_path)"
   ]
  },
  {
   "cell_type": "code",
   "execution_count": 60,
   "metadata": {},
   "outputs": [
    {
     "data": {
      "text/plain": [
       "zarr.core.Array"
      ]
     },
     "execution_count": 60,
     "metadata": {},
     "output_type": "execute_result"
    }
   ],
   "source": [
    "type(img)"
   ]
  },
  {
   "cell_type": "code",
   "execution_count": 62,
   "metadata": {},
   "outputs": [],
   "source": [
    "from skimage import exposure\n",
    "import numpy as np"
   ]
  },
  {
   "cell_type": "code",
   "execution_count": 63,
   "metadata": {},
   "outputs": [],
   "source": [
    "vmin = np.min(img)\n",
    "vmax = np.percentile(img, 99)\n",
    "img = exposure.rescale_intensity(img, in_range=(vmin, vmax), out_range=(0, 1))"
   ]
  },
  {
   "cell_type": "code",
   "execution_count": 64,
   "metadata": {},
   "outputs": [
    {
     "data": {
      "text/plain": [
       "numpy.ndarray"
      ]
     },
     "execution_count": 64,
     "metadata": {},
     "output_type": "execute_result"
    }
   ],
   "source": [
    "type(img)"
   ]
  },
  {
   "cell_type": "code",
   "execution_count": 66,
   "metadata": {},
   "outputs": [
    {
     "data": {
      "image/png": "[encoded data removed]",
      "text/plain": [
       "<Figure size 640x480 with 1 Axes>"
      ]
     },
     "metadata": {},
     "output_type": "display_data"
    }
   ],
   "source": [
    "ind = 8\n",
    "meta = meta.filter(\n",
    "    (pl.col(\"Metadata_Foci_well\") == \"WellB5\") &\n",
    "    (pl.col(\"Metadata_Foci_site_location\") == 18)\n",
    ")\n",
    "x1, x2 = meta[\"x_low\"][ind], meta[\"x_high\"][ind]\n",
    "y1, y2 = meta[\"y_low\"][ind], meta[\"y_high\"][ind]\n",
    "crop = img[y1:y2, x1:x2]\n",
    "\n",
    "plt.imshow(crop, cmap=\"grey\")\n",
    "plt.axis('off')  # Turn off axis labels\n",
    "plt.show()"
   ]
  }
 ],
 "metadata": {
  "kernelspec": {
   "display_name": "cytoself",
   "language": "python",
   "name": "python3"
  },
  "language_info": {
   "codemirror_mode": {
    "name": "ipython",
    "version": 3
   },
   "file_extension": ".py",
   "mimetype": "text/x-python",
   "name": "python",
   "nbconvert_exporter": "python",
   "pygments_lexer": "ipython3",
   "version": "3.9.19"
  }
 },
 "nbformat": 4,
 "nbformat_minor": 2
}
