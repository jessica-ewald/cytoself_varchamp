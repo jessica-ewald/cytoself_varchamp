{
 "cells": [
  {
   "cell_type": "code",
   "execution_count": 1,
   "metadata": {},
   "outputs": [],
   "source": [
    "from pathlib import Path\n",
    "\n",
    "import polars as pl\n",
    "from cpgdata.utils import download_s3_files, parallel"
   ]
  },
  {
   "cell_type": "code",
   "execution_count": 2,
   "metadata": {},
   "outputs": [],
   "source": [
    "    index_dir = Path(\"/dgx1nas1/storage/data/jess/cpg_index\")\n",
    "    index_files = list(index_dir.glob(\"*.parquet\"))\n",
    "\n",
    "    # Download images\n",
    "    index_df = pl.scan_parquet(index_files)"
   ]
  },
  {
   "cell_type": "code",
   "execution_count": 4,
   "metadata": {},
   "outputs": [
    {
     "data": {
      "text/plain": [
       "['key',\n",
       " 'root_dir',\n",
       " 'images_root_dir',\n",
       " 'images_batch_root_dir',\n",
       " 'images_illum_root_dir',\n",
       " 'images_images_root_dir',\n",
       " 'images_images_aligned_root_dir',\n",
       " 'images_images_corrected_root_dir',\n",
       " 'images_images_corrected_cropped_root_dir',\n",
       " 'workspace_root_dir',\n",
       " 'analysis_root_dir',\n",
       " 'backend_root_dir',\n",
       " 'load_data_csv_root_dir',\n",
       " 'metadata_root_dir',\n",
       " 'profiles_root_dir',\n",
       " 'assaydev_root_dir',\n",
       " 'embeddings_root_dir',\n",
       " 'pipelines_root_dir',\n",
       " 'qc_root_dir',\n",
       " 'segmentation_root_dir',\n",
       " 'software_root_dir',\n",
       " 'workspace_dl_root_dir',\n",
       " 'collated_root_dir',\n",
       " 'consensus_root_dir',\n",
       " 'dl_embeddings_root_dir',\n",
       " 'dl_profiles_root_dir',\n",
       " 'sep',\n",
       " 'images',\n",
       " 'workspace',\n",
       " 'workspace_dl',\n",
       " 'dataset_id',\n",
       " 'source_id',\n",
       " 'batch_id',\n",
       " 'plate_id',\n",
       " 'well_id',\n",
       " 'site_id',\n",
       " 'well_site_id',\n",
       " 'plate_well_site_id',\n",
       " 'ml_model_id',\n",
       " 'leaf_node',\n",
       " 'filename',\n",
       " 'extension',\n",
       " 'software_hash',\n",
       " 'software',\n",
       " 'hash',\n",
       " 'allowed_names',\n",
       " 'bucket',\n",
       " 'obj_key',\n",
       " 'size',\n",
       " 'last_modified_date',\n",
       " 'e_tag',\n",
       " 'storage_class',\n",
       " 'is_multipart_uploaded',\n",
       " 'replication_status',\n",
       " 'encryption_status',\n",
       " 'object_lock_retain_until_date',\n",
       " 'object_lock_mode',\n",
       " 'object_lock_legal_hold_status',\n",
       " 'intelligent_tiering_access_tier',\n",
       " 'bucket_key_status',\n",
       " 'checksum_algorithm',\n",
       " 'object_access_control_list',\n",
       " 'object_owner',\n",
       " 'is_parsing_error',\n",
       " 'errors',\n",
       " 'is_dir',\n",
       " 'key_parts',\n",
       " 'workspace_dir']"
      ]
     },
     "execution_count": 4,
     "metadata": {},
     "output_type": "execute_result"
    }
   ],
   "source": [
    "index_df.columns"
   ]
  },
  {
   "cell_type": "code",
   "execution_count": 3,
   "metadata": {},
   "outputs": [],
   "source": [
    "index_df = (\n",
    "    index_df\n",
    "    .filter(pl.col(\"dataset_id\").eq(\"cpg0016-jump\"))\n",
    "    .filter(pl.col(\"leaf_node\").str.contains(\".parquet\"))\n",
    "    .filter(pl.col(\"leaf_node\").str.contains(\"110000294936\"))\n",
    ").collect()"
   ]
  },
  {
   "cell_type": "code",
   "execution_count": 4,
   "metadata": {},
   "outputs": [
    {
     "data": {
      "text/plain": [
       "(1, 68)"
      ]
     },
     "execution_count": 4,
     "metadata": {},
     "output_type": "execute_result"
    }
   ],
   "source": [
    "index_df.shape"
   ]
  },
  {
   "cell_type": "code",
   "execution_count": 5,
   "metadata": {},
   "outputs": [],
   "source": [
    "index_df = pl.scan_parquet(index_files)\n",
    "index_df = (\n",
    "    index_df\n",
    "    .filter(pl.col(\"dataset_id\").eq(\"cpg0016-jump\"))\n",
    "    .filter(pl.col(\"source_id\").eq(\"source_6\"))\n",
    "    .filter(pl.col(\"leaf_node\").str.contains(\".parquet\"))\n",
    ").select([\"dataset_id\", \"source_id\", \"batch_id\", \"plate_id\"]).unique().collect()"
   ]
  },
  {
   "cell_type": "code",
   "execution_count": 6,
   "metadata": {},
   "outputs": [
    {
     "data": {
      "text/plain": [
       "(246, 4)"
      ]
     },
     "execution_count": 6,
     "metadata": {},
     "output_type": "execute_result"
    }
   ],
   "source": [
    "index_df.shape"
   ]
  },
  {
   "cell_type": "code",
   "execution_count": 11,
   "metadata": {},
   "outputs": [],
   "source": [
    "index_dl = pl.scan_parquet(index_files)\n",
    "index_dl = (\n",
    "    index_dl\n",
    "    .filter(pl.col(\"dataset_id\").eq(\"cpg0016-jump\"))\n",
    "    .filter(pl.col(\"key\").str.contains(\"efficientnet_v2_imagenet21k\"))\n",
    ").select([\"dataset_id\", \"source_id\", \"workspace_dl_root_dir\", \"batch_id\", \"plate_id\"]).unique().collect()"
   ]
  },
  {
   "cell_type": "code",
   "execution_count": 12,
   "metadata": {},
   "outputs": [
    {
     "data": {
      "text/plain": [
       "(217621, 5)"
      ]
     },
     "execution_count": 12,
     "metadata": {},
     "output_type": "execute_result"
    }
   ],
   "source": [
    "index_dl.shape"
   ]
  }
 ],
 "metadata": {
  "kernelspec": {
   "display_name": "cytoself",
   "language": "python",
   "name": "python3"
  },
  "language_info": {
   "codemirror_mode": {
    "name": "ipython",
    "version": 3
   },
   "file_extension": ".py",
   "mimetype": "text/x-python",
   "name": "python",
   "nbconvert_exporter": "python",
   "pygments_lexer": "ipython3",
   "version": "3.9.19"
  }
 },
 "nbformat": 4,
 "nbformat_minor": 2
}
