{
 "cells": [
  {
   "cell_type": "markdown",
   "metadata": {},
   "source": [
    "# Troubleshoot workflow\n",
    "\n",
    "Sometimes the code fails after training on only a subset of the data. "
   ]
  },
  {
   "cell_type": "code",
   "execution_count": 1,
   "metadata": {},
   "outputs": [
    {
     "name": "stderr",
     "output_type": "stream",
     "text": [
      "/dgx1nas1/storage/data/jess/miniforge3/envs/cytoself/lib/python3.9/site-packages/tqdm/auto.py:21: TqdmWarning: IProgress not found. Please update jupyter and ipywidgets. See https://ipywidgets.readthedocs.io/en/stable/user_install.html\n",
      "  from .autonotebook import tqdm as notebook_tqdm\n"
     ]
    }
   ],
   "source": [
    "from os.path import join\n",
    "\n",
    "from tqdm import tqdm\n",
    "\n",
    "import matplotlib.pyplot as plt\n",
    "import numpy as np\n",
    "import torch\n",
    "import polars as pl\n",
    "\n",
    "from cytoself.analysis.analysis_opencell import AnalysisOpenCell\n",
    "from cytoself.datamanager.opencell import DataManagerOpenCell\n",
    "from cytoself.trainer.cytoselflite_trainer import CytoselfFullTrainer\n",
    "from cytoself.trainer.utils.plot_history import plot_history_cytoself\n",
    "from cytoself.analysis.utils.cluster_score import calculate_cluster_centrosize"
   ]
  }
 ],
 "metadata": {
  "kernelspec": {
   "display_name": "cytoself",
   "language": "python",
   "name": "python3"
  },
  "language_info": {
   "codemirror_mode": {
    "name": "ipython",
    "version": 3
   },
   "file_extension": ".py",
   "mimetype": "text/x-python",
   "name": "python",
   "nbconvert_exporter": "python",
   "pygments_lexer": "ipython3",
   "version": "undefined.undefined.undefined"
  }
 },
 "nbformat": 4,
 "nbformat_minor": 2
}
